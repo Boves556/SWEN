{
 "cells": [
  {
   "cell_type": "markdown",
   "metadata": {
    "colab_type": "text",
    "id": "view-in-github"
   },
   "source": [
    "<a href=\"https://colab.research.google.com/github/dominikb1888/SWEN/blob/main/colab_scratchpad.ipynb\" target=\"_parent\"><img src=\"https://colab.research.google.com/assets/colab-badge.svg\" alt=\"Open In Colab\"/></a>"
   ]
  },
  {
   "cell_type": "markdown",
   "metadata": {},
   "source": [
    "# Variables, Assignment and Memory Management\n",
    "\n",
    "In Python values are assigned to variables. However it is not a direct assignment. Since the default for most types in python is immutability, we cannot simply overwrite the same location in memory. Python has created a system where a variable points to a location in memory. By using the id() function we can see this behaviour uncovered.\n",
    "\n",
    "## Assigning a variable creates a reference to a memory location"
   ]
  },
  {
   "cell_type": "code",
   "execution_count": 11,
   "metadata": {},
   "outputs": [
    {
     "name": "stdout",
     "output_type": "stream",
     "text": [
      "We assign variable x to value 10 which is stored at address 4367458224\n"
     ]
    }
   ],
   "source": [
    "x = 10\n",
    "print(\"We assign variable x to value\", x,\"which is stored at address\", id(x))"
   ]
  },
  {
   "cell_type": "markdown",
   "metadata": {},
   "source": [
    "## Re-assigning a variable creates a new reference to a new location in memory"
   ]
  },
  {
   "cell_type": "code",
   "execution_count": 12,
   "metadata": {},
   "outputs": [
    {
     "name": "stdout",
     "output_type": "stream",
     "text": [
      "We assign variable x a new value 20 which is stored at a new address 4367458544\n"
     ]
    }
   ],
   "source": [
    "x = 20\n",
    "print(\"We assign variable x a new value\", x, \"which is stored at a new address\", id(x))"
   ]
  },
  {
   "cell_type": "code",
   "execution_count": null,
   "metadata": {},
   "outputs": [],
   "source": []
  },
  {
   "cell_type": "markdown",
   "metadata": {},
   "source": [
    "## Garbage collection handles unused objects in Memory\n",
    "\n",
    "The python garbage collector removes unused object from memory in regular intervals. The exact inner workings are beyond our scope for now. Just remember that once unassigned, the exact same value (as in bits in a certain memory location) cannot be recovered anymore and probably shouldn't. "
   ]
  },
  {
   "cell_type": "code",
   "execution_count": null,
   "metadata": {
    "id": "JKy0m7Wx_5se"
   },
   "outputs": [],
   "source": [
    "x = 10\n",
    "print(\"Before alias: x =\", x, id(x))\n",
    "y = 20\n",
    "print(\"Before alias: y =\", y, id(y))"
   ]
  },
  {
   "cell_type": "code",
   "execution_count": 5,
   "metadata": {
    "id": "JKy0m7Wx_5se"
   },
   "outputs": [
    {
     "name": "stdout",
     "output_type": "stream",
     "text": [
      "Before alias: x = 10 4367458224\n",
      "Before alias: y = 20 4367458544\n",
      "After alias: x = 20 4367458544 y = 20 4367458544\n"
     ]
    }
   ],
   "source": [
    "x = y\n",
    "print(\"After alias: x =\", x, id(x), \"y =\", y, id(y))"
   ]
  },
  {
   "cell_type": "markdown",
   "metadata": {},
   "source": []
  }
 ],
 "metadata": {
  "accelerator": "GPU",
  "colab": {
   "authorship_tag": "ABX9TyNGfthmulMA/P5GeGYwYvGA",
   "include_colab_link": true,
   "provenance": []
  },
  "gpuClass": "standard",
  "kernelspec": {
   "display_name": "Python 3 (ipykernel)",
   "language": "python",
   "name": "python3"
  },
  "language_info": {
   "codemirror_mode": {
    "name": "ipython",
    "version": 3
   },
   "file_extension": ".py",
   "mimetype": "text/x-python",
   "name": "python",
   "nbconvert_exporter": "python",
   "pygments_lexer": "ipython3",
   "version": "3.11.2"
  }
 },
 "nbformat": 4,
 "nbformat_minor": 1
}
